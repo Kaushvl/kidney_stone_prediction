{
 "cells": [
  {
   "cell_type": "markdown",
   "id": "379eb935-4c94-427c-85c9-71d747041337",
   "metadata": {},
   "source": [
    "Introduction\n",
    "\n",
    "What is a Kidney Stone?\n",
    "\n",
    "Kidney stones (also called renal calculi, nephrolithiasis or urolithiasis) are hard deposits made of minerals and salts\n",
    "that form inside your kidneys. Diet, excess body weight, some medical conditions, and certain supplements and medications \n",
    "are among the many causes of kidney stones"
   ]
  },
  {
   "cell_type": "code",
   "execution_count": null,
   "id": "47a23444-beac-451f-b0c0-64fdcc92e49a",
   "metadata": {},
   "outputs": [],
   "source": []
  },
  {
   "cell_type": "code",
   "execution_count": 6,
   "id": "64b131ec",
   "metadata": {},
   "outputs": [],
   "source": [
    "import pandas as pd\n",
    "import numpy as np\n",
    "import seaborn as sns\n",
    "import matplotlib.pyplot as plt\n",
    "from sklearn.impute import KNNImputer\n",
    "from sklearn.model_selection import train_test_split\n",
    "from sklearn.preprocessing import StandardScaler\n",
    "from sklearn.ensemble import RandomForestClassifier\n",
    "from sklearn.linear_model import LogisticRegression\n",
    "from xgboost import XGBClassifier\n",
    "from sklearn.naive_bayes import GaussianNB\n",
    "from sklearn.tree import DecisionTreeClassifier\n",
    "from sklearn.svm import SVC\n",
    "from sklearn.neighbors import KNeighborsClassifier\n",
    "from sklearn.ensemble import GradientBoostingClassifier\n",
    "from sklearn.metrics import accuracy_score,confusion_matrix,f1_score"
   ]
  },
  {
   "cell_type": "code",
   "execution_count": null,
   "id": "5cdc5548-2644-4462-a5fc-9d8fe6d78aa7",
   "metadata": {},
   "outputs": [],
   "source": []
  },
  {
   "cell_type": "code",
   "execution_count": 7,
   "id": "4540163f-efdf-4e2a-b442-e4b229de258d",
   "metadata": {},
   "outputs": [],
   "source": [
    "df = pd.read_csv(r\"C:\\Users\\kaush\\Downloads\\dataset\\kidney_stone_data.csv\")"
   ]
  },
  {
   "cell_type": "code",
   "execution_count": 8,
   "id": "9b32d312-4fe0-463f-aecb-63f5129467e2",
   "metadata": {},
   "outputs": [
    {
     "data": {
      "text/html": [
       "<div>\n",
       "<style scoped>\n",
       "    .dataframe tbody tr th:only-of-type {\n",
       "        vertical-align: middle;\n",
       "    }\n",
       "\n",
       "    .dataframe tbody tr th {\n",
       "        vertical-align: top;\n",
       "    }\n",
       "\n",
       "    .dataframe thead th {\n",
       "        text-align: right;\n",
       "    }\n",
       "</style>\n",
       "<table border=\"1\" class=\"dataframe\">\n",
       "  <thead>\n",
       "    <tr style=\"text-align: right;\">\n",
       "      <th></th>\n",
       "      <th>id</th>\n",
       "      <th>gravity</th>\n",
       "      <th>ph</th>\n",
       "      <th>osmo</th>\n",
       "      <th>cond</th>\n",
       "      <th>urea</th>\n",
       "      <th>calc</th>\n",
       "      <th>target</th>\n",
       "    </tr>\n",
       "  </thead>\n",
       "  <tbody>\n",
       "    <tr>\n",
       "      <th>0</th>\n",
       "      <td>0</td>\n",
       "      <td>1.013</td>\n",
       "      <td>6.19</td>\n",
       "      <td>443</td>\n",
       "      <td>14.8</td>\n",
       "      <td>124</td>\n",
       "      <td>1.45</td>\n",
       "      <td>0</td>\n",
       "    </tr>\n",
       "    <tr>\n",
       "      <th>1</th>\n",
       "      <td>1</td>\n",
       "      <td>1.025</td>\n",
       "      <td>5.40</td>\n",
       "      <td>703</td>\n",
       "      <td>23.6</td>\n",
       "      <td>394</td>\n",
       "      <td>4.18</td>\n",
       "      <td>0</td>\n",
       "    </tr>\n",
       "    <tr>\n",
       "      <th>2</th>\n",
       "      <td>2</td>\n",
       "      <td>1.009</td>\n",
       "      <td>6.13</td>\n",
       "      <td>371</td>\n",
       "      <td>24.5</td>\n",
       "      <td>159</td>\n",
       "      <td>9.04</td>\n",
       "      <td>0</td>\n",
       "    </tr>\n",
       "    <tr>\n",
       "      <th>3</th>\n",
       "      <td>3</td>\n",
       "      <td>1.021</td>\n",
       "      <td>4.91</td>\n",
       "      <td>442</td>\n",
       "      <td>20.8</td>\n",
       "      <td>398</td>\n",
       "      <td>6.63</td>\n",
       "      <td>1</td>\n",
       "    </tr>\n",
       "    <tr>\n",
       "      <th>4</th>\n",
       "      <td>4</td>\n",
       "      <td>1.021</td>\n",
       "      <td>5.53</td>\n",
       "      <td>874</td>\n",
       "      <td>17.8</td>\n",
       "      <td>385</td>\n",
       "      <td>2.21</td>\n",
       "      <td>1</td>\n",
       "    </tr>\n",
       "  </tbody>\n",
       "</table>\n",
       "</div>"
      ],
      "text/plain": [
       "   id  gravity    ph  osmo  cond  urea  calc  target\n",
       "0   0    1.013  6.19   443  14.8   124  1.45       0\n",
       "1   1    1.025  5.40   703  23.6   394  4.18       0\n",
       "2   2    1.009  6.13   371  24.5   159  9.04       0\n",
       "3   3    1.021  4.91   442  20.8   398  6.63       1\n",
       "4   4    1.021  5.53   874  17.8   385  2.21       1"
      ]
     },
     "execution_count": 8,
     "metadata": {},
     "output_type": "execute_result"
    }
   ],
   "source": [
    "df.head()"
   ]
  },
  {
   "cell_type": "code",
   "execution_count": 9,
   "id": "76d9bd9a-3170-4f05-b174-12abad9506c4",
   "metadata": {},
   "outputs": [
    {
     "data": {
      "text/html": [
       "<div>\n",
       "<style scoped>\n",
       "    .dataframe tbody tr th:only-of-type {\n",
       "        vertical-align: middle;\n",
       "    }\n",
       "\n",
       "    .dataframe tbody tr th {\n",
       "        vertical-align: top;\n",
       "    }\n",
       "\n",
       "    .dataframe thead th {\n",
       "        text-align: right;\n",
       "    }\n",
       "</style>\n",
       "<table border=\"1\" class=\"dataframe\">\n",
       "  <thead>\n",
       "    <tr style=\"text-align: right;\">\n",
       "      <th></th>\n",
       "      <th>count</th>\n",
       "      <th>mean</th>\n",
       "      <th>std</th>\n",
       "      <th>min</th>\n",
       "      <th>25%</th>\n",
       "      <th>50%</th>\n",
       "      <th>75%</th>\n",
       "      <th>max</th>\n",
       "    </tr>\n",
       "  </thead>\n",
       "  <tbody>\n",
       "    <tr>\n",
       "      <th>id</th>\n",
       "      <td>414.0</td>\n",
       "      <td>206.500000</td>\n",
       "      <td>119.655756</td>\n",
       "      <td>0.000</td>\n",
       "      <td>103.250</td>\n",
       "      <td>206.500</td>\n",
       "      <td>309.750</td>\n",
       "      <td>413.00</td>\n",
       "    </tr>\n",
       "    <tr>\n",
       "      <th>gravity</th>\n",
       "      <td>414.0</td>\n",
       "      <td>1.017894</td>\n",
       "      <td>0.006675</td>\n",
       "      <td>1.005</td>\n",
       "      <td>1.012</td>\n",
       "      <td>1.018</td>\n",
       "      <td>1.022</td>\n",
       "      <td>1.04</td>\n",
       "    </tr>\n",
       "    <tr>\n",
       "      <th>ph</th>\n",
       "      <td>414.0</td>\n",
       "      <td>5.955459</td>\n",
       "      <td>0.642260</td>\n",
       "      <td>4.760</td>\n",
       "      <td>5.530</td>\n",
       "      <td>5.740</td>\n",
       "      <td>6.280</td>\n",
       "      <td>7.94</td>\n",
       "    </tr>\n",
       "    <tr>\n",
       "      <th>osmo</th>\n",
       "      <td>414.0</td>\n",
       "      <td>651.545894</td>\n",
       "      <td>234.676567</td>\n",
       "      <td>187.000</td>\n",
       "      <td>455.250</td>\n",
       "      <td>679.500</td>\n",
       "      <td>840.000</td>\n",
       "      <td>1236.00</td>\n",
       "    </tr>\n",
       "    <tr>\n",
       "      <th>cond</th>\n",
       "      <td>414.0</td>\n",
       "      <td>21.437923</td>\n",
       "      <td>7.514750</td>\n",
       "      <td>5.100</td>\n",
       "      <td>15.500</td>\n",
       "      <td>22.200</td>\n",
       "      <td>27.600</td>\n",
       "      <td>38.00</td>\n",
       "    </tr>\n",
       "    <tr>\n",
       "      <th>urea</th>\n",
       "      <td>414.0</td>\n",
       "      <td>278.657005</td>\n",
       "      <td>136.442249</td>\n",
       "      <td>10.000</td>\n",
       "      <td>170.000</td>\n",
       "      <td>277.000</td>\n",
       "      <td>385.000</td>\n",
       "      <td>620.00</td>\n",
       "    </tr>\n",
       "    <tr>\n",
       "      <th>calc</th>\n",
       "      <td>414.0</td>\n",
       "      <td>4.114638</td>\n",
       "      <td>3.217641</td>\n",
       "      <td>0.170</td>\n",
       "      <td>1.450</td>\n",
       "      <td>3.130</td>\n",
       "      <td>6.630</td>\n",
       "      <td>14.34</td>\n",
       "    </tr>\n",
       "    <tr>\n",
       "      <th>target</th>\n",
       "      <td>414.0</td>\n",
       "      <td>0.444444</td>\n",
       "      <td>0.497505</td>\n",
       "      <td>0.000</td>\n",
       "      <td>0.000</td>\n",
       "      <td>0.000</td>\n",
       "      <td>1.000</td>\n",
       "      <td>1.00</td>\n",
       "    </tr>\n",
       "  </tbody>\n",
       "</table>\n",
       "</div>"
      ],
      "text/plain": [
       "         count        mean         std      min      25%      50%      75%  \\\n",
       "id       414.0  206.500000  119.655756    0.000  103.250  206.500  309.750   \n",
       "gravity  414.0    1.017894    0.006675    1.005    1.012    1.018    1.022   \n",
       "ph       414.0    5.955459    0.642260    4.760    5.530    5.740    6.280   \n",
       "osmo     414.0  651.545894  234.676567  187.000  455.250  679.500  840.000   \n",
       "cond     414.0   21.437923    7.514750    5.100   15.500   22.200   27.600   \n",
       "urea     414.0  278.657005  136.442249   10.000  170.000  277.000  385.000   \n",
       "calc     414.0    4.114638    3.217641    0.170    1.450    3.130    6.630   \n",
       "target   414.0    0.444444    0.497505    0.000    0.000    0.000    1.000   \n",
       "\n",
       "             max  \n",
       "id        413.00  \n",
       "gravity     1.04  \n",
       "ph          7.94  \n",
       "osmo     1236.00  \n",
       "cond       38.00  \n",
       "urea      620.00  \n",
       "calc       14.34  \n",
       "target      1.00  "
      ]
     },
     "execution_count": 9,
     "metadata": {},
     "output_type": "execute_result"
    }
   ],
   "source": [
    "df.describe().T"
   ]
  },
  {
   "cell_type": "code",
   "execution_count": 10,
   "id": "1f7a0e65-4433-4bfa-97fe-dced70b9109e",
   "metadata": {},
   "outputs": [
    {
     "data": {
      "text/plain": [
       "(414, 8)"
      ]
     },
     "execution_count": 10,
     "metadata": {},
     "output_type": "execute_result"
    }
   ],
   "source": [
    "df.shape"
   ]
  },
  {
   "cell_type": "code",
   "execution_count": 11,
   "id": "33e3a36c-16c4-44dc-9a59-277598b77e8c",
   "metadata": {},
   "outputs": [
    {
     "data": {
      "text/plain": [
       "Index(['id', 'gravity', 'ph', 'osmo', 'cond', 'urea', 'calc', 'target'], dtype='object')"
      ]
     },
     "execution_count": 11,
     "metadata": {},
     "output_type": "execute_result"
    }
   ],
   "source": [
    "cols = df.columns\n",
    "cols"
   ]
  },
  {
   "cell_type": "markdown",
   "id": "a6bf983a-ccab-4b30-8a1f-52dacaa3ef33",
   "metadata": {},
   "source": [
    "#### Let's Study Risk and What is the Play of above Features in predicting the Stone in kidney"
   ]
  },
  {
   "cell_type": "markdown",
   "id": "9f4cdf99-12d0-4f20-a9fb-0a7c9f5c2361",
   "metadata": {},
   "source": [
    "Physical chemistry plays a significant role in understanding and explaining various aspects of kidney stones. In the context of kidney stones, the contributions of physical chemistry can be seen in relation to osmolarity, conductivity, urea concentration, and calcium concentration. Let's explore these contributions further:"
   ]
  },
  {
   "cell_type": "markdown",
   "id": "099cd6d2-8d14-4ffd-a8a7-5cdb484e71e9",
   "metadata": {},
   "source": [
    "1. Osmolarity: Osmolarity refers to the concentration of molecules in a solution. In the case of kidney stones, osmolarity plays a role in the formation and growth of stones. When the concentration of certain substances, such as calcium, oxalate, and uric acid, exceeds their solubility limits in urine, these substances can precipitate and form crystals. The osmolarity of urine affects the supersaturation level of these substances and, consequently, their potential to crystallize and contribute to the formation of kidney stones.\n",
    "\n",
    "2. Conductivity: Conductivity is a measure of how well a solution conducts electric current and is influenced by the concentration of charged ions in the solution. In the context of kidney stones, conductivity can be related to the presence of dissolved ions, such as calcium, oxalate, phosphate, and urate. Higher concentrations of these ions can increase the electrical conductivity of urine, which may indicate an increased risk for stone formation. Conductivity measurements can provide valuable information about the ionic composition of urine and aid in diagnosing and monitoring kidney stone patients.\n",
    "3. Urea Concentration: Urea is a waste product formed in the liver from the breakdown of proteins and is excreted in urine. Its concentration in urine can impact kidney stone formation. Urea acts as a solute and contributes to the osmotic pressure and osmolarity of urine. Higher urea concentrations can affect the solubility of other substances, potentially leading to stone formation. Understanding the urea concentration in urine can help assess the risk of stone formation and guide preventive measures.\r\n",
    "\n",
    "4. \r\n",
    "Calcium Concentration: Calcium is a critical component in the formation of certain types of kidney stones, particularly calcium oxalate and calcium phosphate stones. Physical chemistry plays a role in understanding the solubility of calcium in urine and factors influencing its precipitation as crystals. Elevated calcium concentrations in urine can result from various factors, such as increased intestinal absorption or impaired calcium reabsorption in the kidneys. Understanding the calcium concentration is essential for evaluating the risk of calcium-based stone formation and implementing appropriate preventive strategie\n",
    "5. The specific gravity of urine is a measurement that indicates the concentration of dissolved substances in urine compared to pure water. It is typically used to assess the concentration and dilution of urine and can provide valuable information about kidney function and potential kidney stone formation.\n",
    "6. The pH of urine is influenced by the presence of different substances and can affect the solubility of certain compounds.\n",
    " ds.\r\n",
    " \n",
    "\n"
   ]
  },
  {
   "cell_type": "code",
   "execution_count": null,
   "id": "c4d3d6bb-e93e-4044-9c33-a90b9a6abe21",
   "metadata": {},
   "outputs": [],
   "source": []
  },
  {
   "cell_type": "code",
   "execution_count": 12,
   "id": "0f3ad45e-1f9f-4552-a727-12b34fa87161",
   "metadata": {},
   "outputs": [
    {
     "name": "stdout",
     "output_type": "stream",
     "text": [
      "<class 'pandas.core.frame.DataFrame'>\n",
      "RangeIndex: 414 entries, 0 to 413\n",
      "Data columns (total 8 columns):\n",
      " #   Column   Non-Null Count  Dtype  \n",
      "---  ------   --------------  -----  \n",
      " 0   id       414 non-null    int64  \n",
      " 1   gravity  414 non-null    float64\n",
      " 2   ph       414 non-null    float64\n",
      " 3   osmo     414 non-null    int64  \n",
      " 4   cond     414 non-null    float64\n",
      " 5   urea     414 non-null    int64  \n",
      " 6   calc     414 non-null    float64\n",
      " 7   target   414 non-null    int64  \n",
      "dtypes: float64(4), int64(4)\n",
      "memory usage: 26.0 KB\n"
     ]
    }
   ],
   "source": [
    "df.info()"
   ]
  },
  {
   "cell_type": "code",
   "execution_count": null,
   "id": "633476f8-669b-425e-91c4-94bc9a8fdef2",
   "metadata": {},
   "outputs": [],
   "source": []
  },
  {
   "cell_type": "code",
   "execution_count": 13,
   "id": "c6c62c24-b29f-4201-9a09-0574e841d0f8",
   "metadata": {},
   "outputs": [
    {
     "data": {
      "text/plain": [
       "<Axes: title={'center': 'Target Count'}, xlabel='target', ylabel='count'>"
      ]
     },
     "execution_count": 13,
     "metadata": {},
     "output_type": "execute_result"
    },
    {
     "data": {
      "image/png": "[encoded data removed]",
      "text/plain": [
       "<Figure size 400x400 with 1 Axes>"
      ]
     },
     "metadata": {},
     "output_type": "display_data"
    }
   ],
   "source": [
    "plt.figure(figsize = (4,4))\n",
    "plt.title(\"Target Count\")\n",
    "sns.countplot(x=df['target'])"
   ]
  },
  {
   "cell_type": "code",
   "execution_count": null,
   "id": "cce58e4f-15a9-4ca6-b3ef-bc22a3bb9420",
   "metadata": {},
   "outputs": [],
   "source": []
  },
  {
   "cell_type": "code",
   "execution_count": null,
   "id": "a14891cf-8259-4db1-a3db-d8a031541f8f",
   "metadata": {},
   "outputs": [],
   "source": []
  },
  {
   "cell_type": "code",
   "execution_count": 14,
   "id": "6f54a86d-e7b7-4866-839c-a9134d62897f",
   "metadata": {},
   "outputs": [
    {
     "data": {
      "image/png": "[encoded data removed]",
      "text/plain": [
       "<Figure size 1500x700 with 2 Axes>"
      ]
     },
     "metadata": {},
     "output_type": "display_data"
    }
   ],
   "source": [
    "plt.figure(figsize=(15,7))\n",
    "sns.heatmap(df.corr(),annot=True);"
   ]
  },
  {
   "cell_type": "code",
   "execution_count": null,
   "id": "0e9007b5-2ed3-4622-aea4-10de1eecfa09",
   "metadata": {},
   "outputs": [],
   "source": []
  },
  {
   "cell_type": "code",
   "execution_count": 15,
   "id": "1b3ed200-1062-4eb9-b904-e2ee752f96a6",
   "metadata": {},
   "outputs": [
    {
     "data": {
      "text/plain": [
       "<Axes: xlabel='gravity'>"
      ]
     },
     "execution_count": 15,
     "metadata": {},
     "output_type": "execute_result"
    },
    {
     "data": {
      "image/png": "[encoded data removed]",
      "text/plain": [
       "<Figure size 400x400 with 1 Axes>"
      ]
     },
     "metadata": {},
     "output_type": "display_data"
    }
   ],
   "source": [
    "plt.figure(figsize=(4,4))\n",
    "sns.boxplot(x = df['gravity'])"
   ]
  },
  {
   "cell_type": "code",
   "execution_count": 16,
   "id": "be318fcd-dafc-4c22-a103-76a7289bae94",
   "metadata": {},
   "outputs": [
    {
     "data": {
      "text/plain": [
       "<Axes: xlabel='ph'>"
      ]
     },
     "execution_count": 16,
     "metadata": {},
     "output_type": "execute_result"
    },
    {
     "data": {
      "image/png": "[encoded data removed]",
      "text/plain": [
       "<Figure size 400x400 with 1 Axes>"
      ]
     },
     "metadata": {},
     "output_type": "display_data"
    }
   ],
   "source": [
    "plt.figure(figsize=(4,4))\n",
    "sns.boxplot(x = df['ph'])"
   ]
  },
  {
   "cell_type": "code",
   "execution_count": 17,
   "id": "13b892d3-1f24-4d55-9505-2163c759e9ff",
   "metadata": {},
   "outputs": [
    {
     "data": {
      "text/plain": [
       "<Axes: xlabel='osmo'>"
      ]
     },
     "execution_count": 17,
     "metadata": {},
     "output_type": "execute_result"
    },
    {
     "data": {
      "image/png": "[encoded data removed]",
      "text/plain": [
       "<Figure size 400x400 with 1 Axes>"
      ]
     },
     "metadata": {},
     "output_type": "display_data"
    }
   ],
   "source": [
    "plt.figure(figsize=(4,4))\n",
    "sns.boxplot(x = df['osmo'])"
   ]
  },
  {
   "cell_type": "code",
   "execution_count": 18,
   "id": "a979955d-9008-42ea-a62d-21c4d59708eb",
   "metadata": {},
   "outputs": [
    {
     "data": {
      "text/plain": [
       "<Axes: xlabel='cond'>"
      ]
     },
     "execution_count": 18,
     "metadata": {},
     "output_type": "execute_result"
    },
    {
     "data": {
      "image/png": "[encoded data removed]",
      "text/plain": [
       "<Figure size 400x400 with 1 Axes>"
      ]
     },
     "metadata": {},
     "output_type": "display_data"
    }
   ],
   "source": [
    "plt.figure(figsize=(4,4))\n",
    "sns.boxplot(x = df['cond'])"
   ]
  },
  {
   "cell_type": "code",
   "execution_count": 19,
   "id": "61605d99-52a1-4289-bfa8-29e9f9e9394a",
   "metadata": {},
   "outputs": [
    {
     "data": {
      "text/plain": [
       "<Axes: xlabel='urea'>"
      ]
     },
     "execution_count": 19,
     "metadata": {},
     "output_type": "execute_result"
    },
    {
     "data": {
      "image/png": "[encoded data removed]",
      "text/plain": [
       "<Figure size 400x400 with 1 Axes>"
      ]
     },
     "metadata": {},
     "output_type": "display_data"
    }
   ],
   "source": [
    "plt.figure(figsize=(4,4))\n",
    "sns.boxplot(x = df['urea'])"
   ]
  },
  {
   "cell_type": "code",
   "execution_count": 20,
   "id": "be5885a2-e96a-4e06-9699-0f35bcc8c247",
   "metadata": {},
   "outputs": [
    {
     "data": {
      "text/plain": [
       "<Axes: xlabel='calc'>"
      ]
     },
     "execution_count": 20,
     "metadata": {},
     "output_type": "execute_result"
    },
    {
     "data": {
      "image/png": "[encoded data removed]",
      "text/plain": [
       "<Figure size 400x400 with 1 Axes>"
      ]
     },
     "metadata": {},
     "output_type": "display_data"
    }
   ],
   "source": [
    "plt.figure(figsize=(4,4))\n",
    "sns.boxplot(x = df['calc'])"
   ]
  },
  {
   "cell_type": "code",
   "execution_count": null,
   "id": "12495ff5-ee5c-4c02-9c02-e20cce293ee5",
   "metadata": {},
   "outputs": [],
   "source": [
    "    "
   ]
  },
  {
   "cell_type": "code",
   "execution_count": 21,
   "id": "76fdc0b1-56ab-47e8-ab73-8839a1b700f7",
   "metadata": {},
   "outputs": [],
   "source": [
    "def handling_outliers(data):\n",
    "    factor = 1.5\n",
    "    q1 = np.percentile(data,25)\n",
    "    q3 = np.percentile(data,75)\n",
    "    iqr = q3 - q1\n",
    "    lower_bound = q1 - (factor* iqr)\n",
    "    upper_bound = q3 + (factor* iqr)\n",
    "\n",
    "    treated_data = data.copy()\n",
    "    treated_data[(data < lower_bound) | (data> upper_bound)] = np.NAN\n",
    "\n",
    "    return treated_data"
   ]
  },
  {
   "cell_type": "code",
   "execution_count": 22,
   "id": "5c2a2940-eee2-4d44-84e0-0f8b2d711918",
   "metadata": {},
   "outputs": [],
   "source": [
    "treated_data = handling_outliers(df)"
   ]
  },
  {
   "cell_type": "code",
   "execution_count": 23,
   "id": "687bdea8-bf7d-47c7-b3ff-dc17e538f27d",
   "metadata": {},
   "outputs": [
    {
     "data": {
      "text/html": [
       "<div>\n",
       "<style scoped>\n",
       "    .dataframe tbody tr th:only-of-type {\n",
       "        vertical-align: middle;\n",
       "    }\n",
       "\n",
       "    .dataframe tbody tr th {\n",
       "        vertical-align: top;\n",
       "    }\n",
       "\n",
       "    .dataframe thead th {\n",
       "        text-align: right;\n",
       "    }\n",
       "</style>\n",
       "<table border=\"1\" class=\"dataframe\">\n",
       "  <thead>\n",
       "    <tr style=\"text-align: right;\">\n",
       "      <th></th>\n",
       "      <th>id</th>\n",
       "      <th>gravity</th>\n",
       "      <th>ph</th>\n",
       "      <th>osmo</th>\n",
       "      <th>cond</th>\n",
       "      <th>urea</th>\n",
       "      <th>calc</th>\n",
       "      <th>target</th>\n",
       "    </tr>\n",
       "  </thead>\n",
       "  <tbody>\n",
       "    <tr>\n",
       "      <th>0</th>\n",
       "      <td>0</td>\n",
       "      <td>1.013</td>\n",
       "      <td>6.19</td>\n",
       "      <td>443.0</td>\n",
       "      <td>14.8</td>\n",
       "      <td>124.0</td>\n",
       "      <td>1.45</td>\n",
       "      <td>0</td>\n",
       "    </tr>\n",
       "    <tr>\n",
       "      <th>1</th>\n",
       "      <td>1</td>\n",
       "      <td>1.025</td>\n",
       "      <td>5.40</td>\n",
       "      <td>NaN</td>\n",
       "      <td>23.6</td>\n",
       "      <td>394.0</td>\n",
       "      <td>4.18</td>\n",
       "      <td>0</td>\n",
       "    </tr>\n",
       "    <tr>\n",
       "      <th>2</th>\n",
       "      <td>2</td>\n",
       "      <td>1.009</td>\n",
       "      <td>6.13</td>\n",
       "      <td>371.0</td>\n",
       "      <td>24.5</td>\n",
       "      <td>159.0</td>\n",
       "      <td>9.04</td>\n",
       "      <td>0</td>\n",
       "    </tr>\n",
       "    <tr>\n",
       "      <th>3</th>\n",
       "      <td>3</td>\n",
       "      <td>1.021</td>\n",
       "      <td>4.91</td>\n",
       "      <td>442.0</td>\n",
       "      <td>20.8</td>\n",
       "      <td>398.0</td>\n",
       "      <td>6.63</td>\n",
       "      <td>1</td>\n",
       "    </tr>\n",
       "    <tr>\n",
       "      <th>4</th>\n",
       "      <td>4</td>\n",
       "      <td>1.021</td>\n",
       "      <td>5.53</td>\n",
       "      <td>NaN</td>\n",
       "      <td>17.8</td>\n",
       "      <td>385.0</td>\n",
       "      <td>2.21</td>\n",
       "      <td>1</td>\n",
       "    </tr>\n",
       "  </tbody>\n",
       "</table>\n",
       "</div>"
      ],
      "text/plain": [
       "   id  gravity    ph   osmo  cond   urea  calc  target\n",
       "0   0    1.013  6.19  443.0  14.8  124.0  1.45       0\n",
       "1   1    1.025  5.40    NaN  23.6  394.0  4.18       0\n",
       "2   2    1.009  6.13  371.0  24.5  159.0  9.04       0\n",
       "3   3    1.021  4.91  442.0  20.8  398.0  6.63       1\n",
       "4   4    1.021  5.53    NaN  17.8  385.0  2.21       1"
      ]
     },
     "execution_count": 23,
     "metadata": {},
     "output_type": "execute_result"
    }
   ],
   "source": [
    "treated_data.head()"
   ]
  },
  {
   "cell_type": "code",
   "execution_count": 24,
   "id": "8fb00951-8531-4a71-865e-48e18a13d8de",
   "metadata": {},
   "outputs": [
    {
     "data": {
      "text/plain": [
       "id           0\n",
       "gravity      0\n",
       "ph           0\n",
       "osmo       255\n",
       "cond         0\n",
       "urea        10\n",
       "calc         0\n",
       "target       0\n",
       "dtype: int64"
      ]
     },
     "execution_count": 24,
     "metadata": {},
     "output_type": "execute_result"
    }
   ],
   "source": [
    "treated_data.isna().sum()"
   ]
  },
  {
   "cell_type": "code",
   "execution_count": 25,
   "id": "d7e5e663-b0c2-4026-946c-0d4d5678d717",
   "metadata": {},
   "outputs": [],
   "source": [
    "imputer = KNNImputer(n_neighbors = 5)\n",
    "imputed_data = imputer.fit_transform(treated_data)"
   ]
  },
  {
   "cell_type": "code",
   "execution_count": 26,
   "id": "324c129e-695e-4ba0-8e89-d475df2e6cd8",
   "metadata": {},
   "outputs": [],
   "source": [
    "imputed_df = pd.DataFrame(imputed_data,columns=cols)"
   ]
  },
  {
   "cell_type": "code",
   "execution_count": 27,
   "id": "a1fde66c-2747-4cae-a88c-0af0d05bc94d",
   "metadata": {},
   "outputs": [
    {
     "data": {
      "text/plain": [
       "id         0\n",
       "gravity    0\n",
       "ph         0\n",
       "osmo       0\n",
       "cond       0\n",
       "urea       0\n",
       "calc       0\n",
       "target     0\n",
       "dtype: int64"
      ]
     },
     "execution_count": 27,
     "metadata": {},
     "output_type": "execute_result"
    }
   ],
   "source": [
    "imputed_df.isna().sum()"
   ]
  },
  {
   "cell_type": "code",
   "execution_count": 28,
   "id": "ffb8f6ae-f818-4dd3-91ab-1bcab2f11e56",
   "metadata": {},
   "outputs": [
    {
     "data": {
      "text/html": [
       "<div>\n",
       "<style scoped>\n",
       "    .dataframe tbody tr th:only-of-type {\n",
       "        vertical-align: middle;\n",
       "    }\n",
       "\n",
       "    .dataframe tbody tr th {\n",
       "        vertical-align: top;\n",
       "    }\n",
       "\n",
       "    .dataframe thead th {\n",
       "        text-align: right;\n",
       "    }\n",
       "</style>\n",
       "<table border=\"1\" class=\"dataframe\">\n",
       "  <thead>\n",
       "    <tr style=\"text-align: right;\">\n",
       "      <th></th>\n",
       "      <th>id</th>\n",
       "      <th>gravity</th>\n",
       "      <th>ph</th>\n",
       "      <th>osmo</th>\n",
       "      <th>cond</th>\n",
       "      <th>urea</th>\n",
       "      <th>calc</th>\n",
       "      <th>target</th>\n",
       "    </tr>\n",
       "  </thead>\n",
       "  <tbody>\n",
       "    <tr>\n",
       "      <th>0</th>\n",
       "      <td>0.0</td>\n",
       "      <td>1.013</td>\n",
       "      <td>6.19</td>\n",
       "      <td>443.0</td>\n",
       "      <td>14.8</td>\n",
       "      <td>124.0</td>\n",
       "      <td>1.45</td>\n",
       "      <td>0.0</td>\n",
       "    </tr>\n",
       "    <tr>\n",
       "      <th>1</th>\n",
       "      <td>1.0</td>\n",
       "      <td>1.025</td>\n",
       "      <td>5.40</td>\n",
       "      <td>442.0</td>\n",
       "      <td>23.6</td>\n",
       "      <td>394.0</td>\n",
       "      <td>4.18</td>\n",
       "      <td>0.0</td>\n",
       "    </tr>\n",
       "    <tr>\n",
       "      <th>2</th>\n",
       "      <td>2.0</td>\n",
       "      <td>1.009</td>\n",
       "      <td>6.13</td>\n",
       "      <td>371.0</td>\n",
       "      <td>24.5</td>\n",
       "      <td>159.0</td>\n",
       "      <td>9.04</td>\n",
       "      <td>0.0</td>\n",
       "    </tr>\n",
       "    <tr>\n",
       "      <th>3</th>\n",
       "      <td>3.0</td>\n",
       "      <td>1.021</td>\n",
       "      <td>4.91</td>\n",
       "      <td>442.0</td>\n",
       "      <td>20.8</td>\n",
       "      <td>398.0</td>\n",
       "      <td>6.63</td>\n",
       "      <td>1.0</td>\n",
       "    </tr>\n",
       "    <tr>\n",
       "      <th>4</th>\n",
       "      <td>4.0</td>\n",
       "      <td>1.021</td>\n",
       "      <td>5.53</td>\n",
       "      <td>442.0</td>\n",
       "      <td>17.8</td>\n",
       "      <td>385.0</td>\n",
       "      <td>2.21</td>\n",
       "      <td>1.0</td>\n",
       "    </tr>\n",
       "  </tbody>\n",
       "</table>\n",
       "</div>"
      ],
      "text/plain": [
       "    id  gravity    ph   osmo  cond   urea  calc  target\n",
       "0  0.0    1.013  6.19  443.0  14.8  124.0  1.45     0.0\n",
       "1  1.0    1.025  5.40  442.0  23.6  394.0  4.18     0.0\n",
       "2  2.0    1.009  6.13  371.0  24.5  159.0  9.04     0.0\n",
       "3  3.0    1.021  4.91  442.0  20.8  398.0  6.63     1.0\n",
       "4  4.0    1.021  5.53  442.0  17.8  385.0  2.21     1.0"
      ]
     },
     "execution_count": 28,
     "metadata": {},
     "output_type": "execute_result"
    }
   ],
   "source": [
    "imputed_df.head()"
   ]
  },
  {
   "cell_type": "code",
   "execution_count": 29,
   "id": "5f3b5d36-6eeb-40eb-83a8-a843df34f518",
   "metadata": {},
   "outputs": [],
   "source": [
    "x = imputed_df.drop(columns=['id','target'])\n",
    "y = imputed_df['target'].astype(int)"
   ]
  },
  {
   "cell_type": "code",
   "execution_count": 30,
   "id": "75892900-f8a7-4aef-99fa-da688aa69143",
   "metadata": {},
   "outputs": [
    {
     "data": {
      "text/html": [
       "<div>\n",
       "<style scoped>\n",
       "    .dataframe tbody tr th:only-of-type {\n",
       "        vertical-align: middle;\n",
       "    }\n",
       "\n",
       "    .dataframe tbody tr th {\n",
       "        vertical-align: top;\n",
       "    }\n",
       "\n",
       "    .dataframe thead th {\n",
       "        text-align: right;\n",
       "    }\n",
       "</style>\n",
       "<table border=\"1\" class=\"dataframe\">\n",
       "  <thead>\n",
       "    <tr style=\"text-align: right;\">\n",
       "      <th></th>\n",
       "      <th>gravity</th>\n",
       "      <th>ph</th>\n",
       "      <th>osmo</th>\n",
       "      <th>cond</th>\n",
       "      <th>urea</th>\n",
       "      <th>calc</th>\n",
       "    </tr>\n",
       "  </thead>\n",
       "  <tbody>\n",
       "    <tr>\n",
       "      <th>0</th>\n",
       "      <td>1.013</td>\n",
       "      <td>6.19</td>\n",
       "      <td>443.0</td>\n",
       "      <td>14.8</td>\n",
       "      <td>124.0</td>\n",
       "      <td>1.45</td>\n",
       "    </tr>\n",
       "    <tr>\n",
       "      <th>1</th>\n",
       "      <td>1.025</td>\n",
       "      <td>5.40</td>\n",
       "      <td>442.0</td>\n",
       "      <td>23.6</td>\n",
       "      <td>394.0</td>\n",
       "      <td>4.18</td>\n",
       "    </tr>\n",
       "    <tr>\n",
       "      <th>2</th>\n",
       "      <td>1.009</td>\n",
       "      <td>6.13</td>\n",
       "      <td>371.0</td>\n",
       "      <td>24.5</td>\n",
       "      <td>159.0</td>\n",
       "      <td>9.04</td>\n",
       "    </tr>\n",
       "    <tr>\n",
       "      <th>3</th>\n",
       "      <td>1.021</td>\n",
       "      <td>4.91</td>\n",
       "      <td>442.0</td>\n",
       "      <td>20.8</td>\n",
       "      <td>398.0</td>\n",
       "      <td>6.63</td>\n",
       "    </tr>\n",
       "    <tr>\n",
       "      <th>4</th>\n",
       "      <td>1.021</td>\n",
       "      <td>5.53</td>\n",
       "      <td>442.0</td>\n",
       "      <td>17.8</td>\n",
       "      <td>385.0</td>\n",
       "      <td>2.21</td>\n",
       "    </tr>\n",
       "  </tbody>\n",
       "</table>\n",
       "</div>"
      ],
      "text/plain": [
       "   gravity    ph   osmo  cond   urea  calc\n",
       "0    1.013  6.19  443.0  14.8  124.0  1.45\n",
       "1    1.025  5.40  442.0  23.6  394.0  4.18\n",
       "2    1.009  6.13  371.0  24.5  159.0  9.04\n",
       "3    1.021  4.91  442.0  20.8  398.0  6.63\n",
       "4    1.021  5.53  442.0  17.8  385.0  2.21"
      ]
     },
     "execution_count": 30,
     "metadata": {},
     "output_type": "execute_result"
    }
   ],
   "source": [
    "x.head()"
   ]
  },
  {
   "cell_type": "code",
   "execution_count": 31,
   "id": "225c2727-9414-4252-b988-697fba9692d4",
   "metadata": {},
   "outputs": [
    {
     "data": {
      "text/plain": [
       "(414, 6)"
      ]
     },
     "execution_count": 31,
     "metadata": {},
     "output_type": "execute_result"
    }
   ],
   "source": [
    "x.shape"
   ]
  },
  {
   "cell_type": "code",
   "execution_count": null,
   "id": "40041eed-5940-4dc7-ae43-d1e5bd383a36",
   "metadata": {},
   "outputs": [],
   "source": []
  },
  {
   "cell_type": "code",
   "execution_count": 32,
   "id": "e0d11a3e-5637-426f-a4bf-3c5374352c70",
   "metadata": {},
   "outputs": [],
   "source": [
    "x_train,x_test,y_train,y_test = train_test_split(x,y,test_size= 0.25)"
   ]
  },
  {
   "cell_type": "code",
   "execution_count": 33,
   "id": "d2c5fb5e-8a08-4de0-b793-fb726cc8247d",
   "metadata": {},
   "outputs": [
    {
     "data": {
      "text/html": [
       "<div>\n",
       "<style scoped>\n",
       "    .dataframe tbody tr th:only-of-type {\n",
       "        vertical-align: middle;\n",
       "    }\n",
       "\n",
       "    .dataframe tbody tr th {\n",
       "        vertical-align: top;\n",
       "    }\n",
       "\n",
       "    .dataframe thead th {\n",
       "        text-align: right;\n",
       "    }\n",
       "</style>\n",
       "<table border=\"1\" class=\"dataframe\">\n",
       "  <thead>\n",
       "    <tr style=\"text-align: right;\">\n",
       "      <th></th>\n",
       "      <th>gravity</th>\n",
       "      <th>ph</th>\n",
       "      <th>osmo</th>\n",
       "      <th>cond</th>\n",
       "      <th>urea</th>\n",
       "      <th>calc</th>\n",
       "    </tr>\n",
       "  </thead>\n",
       "  <tbody>\n",
       "    <tr>\n",
       "      <th>64</th>\n",
       "      <td>1.022</td>\n",
       "      <td>5.96</td>\n",
       "      <td>442.0</td>\n",
       "      <td>20.6</td>\n",
       "      <td>398.0</td>\n",
       "      <td>4.49</td>\n",
       "    </tr>\n",
       "    <tr>\n",
       "      <th>197</th>\n",
       "      <td>1.010</td>\n",
       "      <td>7.38</td>\n",
       "      <td>381.6</td>\n",
       "      <td>25.7</td>\n",
       "      <td>75.0</td>\n",
       "      <td>2.31</td>\n",
       "    </tr>\n",
       "    <tr>\n",
       "      <th>255</th>\n",
       "      <td>1.025</td>\n",
       "      <td>7.90</td>\n",
       "      <td>508.0</td>\n",
       "      <td>23.6</td>\n",
       "      <td>301.0</td>\n",
       "      <td>12.20</td>\n",
       "    </tr>\n",
       "    <tr>\n",
       "      <th>365</th>\n",
       "      <td>1.007</td>\n",
       "      <td>5.94</td>\n",
       "      <td>241.0</td>\n",
       "      <td>5.1</td>\n",
       "      <td>159.0</td>\n",
       "      <td>1.53</td>\n",
       "    </tr>\n",
       "    <tr>\n",
       "      <th>83</th>\n",
       "      <td>1.014</td>\n",
       "      <td>5.85</td>\n",
       "      <td>386.0</td>\n",
       "      <td>17.7</td>\n",
       "      <td>104.0</td>\n",
       "      <td>3.46</td>\n",
       "    </tr>\n",
       "  </tbody>\n",
       "</table>\n",
       "</div>"
      ],
      "text/plain": [
       "     gravity    ph   osmo  cond   urea   calc\n",
       "64     1.022  5.96  442.0  20.6  398.0   4.49\n",
       "197    1.010  7.38  381.6  25.7   75.0   2.31\n",
       "255    1.025  7.90  508.0  23.6  301.0  12.20\n",
       "365    1.007  5.94  241.0   5.1  159.0   1.53\n",
       "83     1.014  5.85  386.0  17.7  104.0   3.46"
      ]
     },
     "execution_count": 33,
     "metadata": {},
     "output_type": "execute_result"
    }
   ],
   "source": [
    "x_train.head()"
   ]
  },
  {
   "cell_type": "code",
   "execution_count": 34,
   "id": "231f4642-8f03-4bd2-a914-aa8c2f91beef",
   "metadata": {},
   "outputs": [
    {
     "data": {
      "text/plain": [
       "(310, 6)"
      ]
     },
     "execution_count": 34,
     "metadata": {},
     "output_type": "execute_result"
    }
   ],
   "source": [
    "x_train.shape"
   ]
  },
  {
   "cell_type": "code",
   "execution_count": null,
   "id": "68365486-c618-4a2a-ba97-4b34a843c098",
   "metadata": {},
   "outputs": [],
   "source": []
  },
  {
   "cell_type": "code",
   "execution_count": 35,
   "id": "cdb39081-f14d-4939-9439-0a84b0c17351",
   "metadata": {},
   "outputs": [],
   "source": [
    "cols = ['gravity','ph','osmo','cond','urea','calc']"
   ]
  },
  {
   "cell_type": "code",
   "execution_count": 36,
   "id": "ec70868d-2ed7-4308-8deb-f2895aa836c3",
   "metadata": {},
   "outputs": [],
   "source": [
    "from sklearn.preprocessing import MinMaxScaler"
   ]
  },
  {
   "cell_type": "code",
   "execution_count": 37,
   "id": "c96459f0-cf43-49f7-8561-617d7080250f",
   "metadata": {},
   "outputs": [],
   "source": [
    "ssc = StandardScaler()"
   ]
  },
  {
   "cell_type": "code",
   "execution_count": 38,
   "id": "c3534554-d234-4741-8b45-164b99c9c8b3",
   "metadata": {},
   "outputs": [],
   "source": [
    "\n",
    "x_train = ssc.fit_transform(x_train)\n",
    "x_test = ssc.transform(x_test)"
   ]
  },
  {
   "cell_type": "code",
   "execution_count": null,
   "id": "f489f5bd-e737-46dc-b776-2d7b22a4d559",
   "metadata": {},
   "outputs": [],
   "source": []
  },
  {
   "cell_type": "code",
   "execution_count": 39,
   "id": "018c388b-82bc-409d-bd04-12a7ec63f5fd",
   "metadata": {},
   "outputs": [],
   "source": [
    "scaled_xtrain = pd.DataFrame(x_train,columns = cols)"
   ]
  },
  {
   "cell_type": "code",
   "execution_count": 40,
   "id": "8694860f-b70f-4749-bc6f-7e3d3d6aaf2e",
   "metadata": {},
   "outputs": [
    {
     "data": {
      "text/html": [
       "<div>\n",
       "<style scoped>\n",
       "    .dataframe tbody tr th:only-of-type {\n",
       "        vertical-align: middle;\n",
       "    }\n",
       "\n",
       "    .dataframe tbody tr th {\n",
       "        vertical-align: top;\n",
       "    }\n",
       "\n",
       "    .dataframe thead th {\n",
       "        text-align: right;\n",
       "    }\n",
       "</style>\n",
       "<table border=\"1\" class=\"dataframe\">\n",
       "  <thead>\n",
       "    <tr style=\"text-align: right;\">\n",
       "      <th></th>\n",
       "      <th>gravity</th>\n",
       "      <th>ph</th>\n",
       "      <th>osmo</th>\n",
       "      <th>cond</th>\n",
       "      <th>urea</th>\n",
       "      <th>calc</th>\n",
       "    </tr>\n",
       "  </thead>\n",
       "  <tbody>\n",
       "    <tr>\n",
       "      <th>0</th>\n",
       "      <td>0.662394</td>\n",
       "      <td>-0.014840</td>\n",
       "      <td>-0.091704</td>\n",
       "      <td>-0.087925</td>\n",
       "      <td>1.046056</td>\n",
       "      <td>0.134810</td>\n",
       "    </tr>\n",
       "    <tr>\n",
       "      <th>1</th>\n",
       "      <td>-1.168293</td>\n",
       "      <td>2.177352</td>\n",
       "      <td>-0.830422</td>\n",
       "      <td>0.577191</td>\n",
       "      <td>-1.549680</td>\n",
       "      <td>-0.547981</td>\n",
       "    </tr>\n",
       "    <tr>\n",
       "      <th>2</th>\n",
       "      <td>1.120065</td>\n",
       "      <td>2.980127</td>\n",
       "      <td>0.715503</td>\n",
       "      <td>0.303320</td>\n",
       "      <td>0.266532</td>\n",
       "      <td>2.549636</td>\n",
       "    </tr>\n",
       "    <tr>\n",
       "      <th>3</th>\n",
       "      <td>-1.625965</td>\n",
       "      <td>-0.045716</td>\n",
       "      <td>-2.550018</td>\n",
       "      <td>-2.109357</td>\n",
       "      <td>-0.874628</td>\n",
       "      <td>-0.792282</td>\n",
       "    </tr>\n",
       "    <tr>\n",
       "      <th>4</th>\n",
       "      <td>-0.558064</td>\n",
       "      <td>-0.184658</td>\n",
       "      <td>-0.776608</td>\n",
       "      <td>-0.466128</td>\n",
       "      <td>-1.316626</td>\n",
       "      <td>-0.187793</td>\n",
       "    </tr>\n",
       "  </tbody>\n",
       "</table>\n",
       "</div>"
      ],
      "text/plain": [
       "    gravity        ph      osmo      cond      urea      calc\n",
       "0  0.662394 -0.014840 -0.091704 -0.087925  1.046056  0.134810\n",
       "1 -1.168293  2.177352 -0.830422  0.577191 -1.549680 -0.547981\n",
       "2  1.120065  2.980127  0.715503  0.303320  0.266532  2.549636\n",
       "3 -1.625965 -0.045716 -2.550018 -2.109357 -0.874628 -0.792282\n",
       "4 -0.558064 -0.184658 -0.776608 -0.466128 -1.316626 -0.187793"
      ]
     },
     "execution_count": 40,
     "metadata": {},
     "output_type": "execute_result"
    }
   ],
   "source": [
    "scaled_xtrain.head()"
   ]
  },
  {
   "cell_type": "code",
   "execution_count": 41,
   "id": "2eb0ab86-c61d-4dde-a073-ff667fac454e",
   "metadata": {},
   "outputs": [],
   "source": [
    "scaled_xtest = pd.DataFrame(x_test,columns = cols)"
   ]
  },
  {
   "cell_type": "code",
   "execution_count": 42,
   "id": "9a92d031-16e2-4026-af77-152a8e4dfce8",
   "metadata": {},
   "outputs": [
    {
     "data": {
      "text/html": [
       "<div>\n",
       "<style scoped>\n",
       "    .dataframe tbody tr th:only-of-type {\n",
       "        vertical-align: middle;\n",
       "    }\n",
       "\n",
       "    .dataframe tbody tr th {\n",
       "        vertical-align: top;\n",
       "    }\n",
       "\n",
       "    .dataframe thead th {\n",
       "        text-align: right;\n",
       "    }\n",
       "</style>\n",
       "<table border=\"1\" class=\"dataframe\">\n",
       "  <thead>\n",
       "    <tr style=\"text-align: right;\">\n",
       "      <th></th>\n",
       "      <th>gravity</th>\n",
       "      <th>ph</th>\n",
       "      <th>osmo</th>\n",
       "      <th>cond</th>\n",
       "      <th>urea</th>\n",
       "      <th>calc</th>\n",
       "    </tr>\n",
       "  </thead>\n",
       "  <tbody>\n",
       "    <tr>\n",
       "      <th>0</th>\n",
       "      <td>1.120065</td>\n",
       "      <td>0.510051</td>\n",
       "      <td>0.194487</td>\n",
       "      <td>0.420693</td>\n",
       "      <td>1.021947</td>\n",
       "      <td>-0.591830</td>\n",
       "    </tr>\n",
       "    <tr>\n",
       "      <th>1</th>\n",
       "      <td>0.967508</td>\n",
       "      <td>-0.539732</td>\n",
       "      <td>0.194487</td>\n",
       "      <td>0.824980</td>\n",
       "      <td>1.994344</td>\n",
       "      <td>0.977337</td>\n",
       "    </tr>\n",
       "    <tr>\n",
       "      <th>2</th>\n",
       "      <td>-1.320850</td>\n",
       "      <td>0.618117</td>\n",
       "      <td>0.519816</td>\n",
       "      <td>1.294474</td>\n",
       "      <td>-0.231721</td>\n",
       "      <td>-0.795414</td>\n",
       "    </tr>\n",
       "    <tr>\n",
       "      <th>3</th>\n",
       "      <td>2.493080</td>\n",
       "      <td>-0.601483</td>\n",
       "      <td>-0.108827</td>\n",
       "      <td>-0.048800</td>\n",
       "      <td>-0.858555</td>\n",
       "      <td>-0.281755</td>\n",
       "    </tr>\n",
       "    <tr>\n",
       "      <th>4</th>\n",
       "      <td>0.509836</td>\n",
       "      <td>-0.817615</td>\n",
       "      <td>0.502694</td>\n",
       "      <td>1.007561</td>\n",
       "      <td>0.459404</td>\n",
       "      <td>0.908431</td>\n",
       "    </tr>\n",
       "  </tbody>\n",
       "</table>\n",
       "</div>"
      ],
      "text/plain": [
       "    gravity        ph      osmo      cond      urea      calc\n",
       "0  1.120065  0.510051  0.194487  0.420693  1.021947 -0.591830\n",
       "1  0.967508 -0.539732  0.194487  0.824980  1.994344  0.977337\n",
       "2 -1.320850  0.618117  0.519816  1.294474 -0.231721 -0.795414\n",
       "3  2.493080 -0.601483 -0.108827 -0.048800 -0.858555 -0.281755\n",
       "4  0.509836 -0.817615  0.502694  1.007561  0.459404  0.908431"
      ]
     },
     "execution_count": 42,
     "metadata": {},
     "output_type": "execute_result"
    }
   ],
   "source": [
    "scaled_xtest.head()"
   ]
  },
  {
   "cell_type": "code",
   "execution_count": null,
   "id": "0d5105c8-9563-4d48-9424-dfb9583133a9",
   "metadata": {},
   "outputs": [],
   "source": []
  },
  {
   "cell_type": "code",
   "execution_count": null,
   "id": "517203dc-d50d-4a20-b90e-e6e869e06daa",
   "metadata": {},
   "outputs": [],
   "source": []
  },
  {
   "cell_type": "code",
   "execution_count": null,
   "id": "809008a8-8e07-411d-9708-ac37935691c5",
   "metadata": {},
   "outputs": [],
   "source": []
  },
  {
   "cell_type": "code",
   "execution_count": 43,
   "id": "8151b5c1-edf9-4eec-afd9-01c56dda052c",
   "metadata": {},
   "outputs": [],
   "source": [
    "rfc = RandomForestClassifier()\n",
    "lrc = LogisticRegression()\n",
    "xgbc = XGBClassifier()\n",
    "gnb = GaussianNB()\n",
    "dtc = DecisionTreeClassifier()\n",
    "svc = SVC()\n",
    "knnc =  KNeighborsClassifier()\n",
    "gbc = GradientBoostingClassifier()"
   ]
  },
  {
   "cell_type": "code",
   "execution_count": 44,
   "id": "6ac7d480-7518-4b05-9e06-fd8deea82af8",
   "metadata": {},
   "outputs": [],
   "source": [
    "MM = [rfc,lrc,xgbc,gnb,dtc,svc,knnc,gbc]"
   ]
  },
  {
   "cell_type": "code",
   "execution_count": 45,
   "id": "1560a5e7-ff8d-4e48-8a6c-23ea764d6f69",
   "metadata": {},
   "outputs": [],
   "source": [
    "a={'Model_Name':[], 'Accuracy_Score':[] ,'F1_score':[] ,'False_Negative':[] }\n"
   ]
  },
  {
   "cell_type": "code",
   "execution_count": 46,
   "id": "877461e6-4a7c-48d0-a2d0-4cc8f64b2ca0",
   "metadata": {
    "scrolled": true
   },
   "outputs": [
    {
     "name": "stdout",
     "output_type": "stream",
     "text": [
      "**************************************************\n",
      "Model Name:  RandomForestClassifier()\n",
      "Accuracy Score : 0.7596153846153846\n",
      "F1 score : 0.7058823529411765\n",
      "False Negative : 13\n",
      "**************************************************\n",
      "Model Name:  LogisticRegression()\n",
      "Accuracy Score : 0.7692307692307693\n",
      "F1 score : 0.7000000000000001\n",
      "False Negative : 15\n",
      "**************************************************\n",
      "Model Name:  XGBClassifier(base_score=None, booster=None, callbacks=None,\n",
      "              colsample_bylevel=None, colsample_bynode=None,\n",
      "              colsample_bytree=None, early_stopping_rounds=None,\n",
      "              enable_categorical=False, eval_metric=None, feature_types=None,\n",
      "              gamma=None, gpu_id=None, grow_policy=None, importance_type=None,\n",
      "              interaction_constraints=None, learning_rate=None, max_bin=None,\n",
      "              max_cat_threshold=None, max_cat_to_onehot=None,\n",
      "              max_delta_step=None, max_depth=None, max_leaves=None,\n",
      "              min_child_weight=None, missing=nan, monotone_constraints=None,\n",
      "              n_estimators=100, n_jobs=None, num_parallel_tree=None,\n",
      "              predictor=None, random_state=None, ...)\n",
      "Accuracy Score : 0.6826923076923077\n",
      "F1 score : 0.611764705882353\n",
      "False Negative : 17\n",
      "**************************************************\n",
      "Model Name:  GaussianNB()\n",
      "Accuracy Score : 0.7115384615384616\n",
      "F1 score : 0.7058823529411764\n",
      "False Negative : 7\n",
      "**************************************************\n",
      "Model Name:  DecisionTreeClassifier()\n",
      "Accuracy Score : 0.5096153846153846\n",
      "F1 score : 0.4137931034482759\n",
      "False Negative : 25\n",
      "**************************************************\n",
      "Model Name:  SVC()\n",
      "Accuracy Score : 0.7884615384615384\n",
      "F1 score : 0.7380952380952381\n",
      "False Negative : 12\n",
      "**************************************************\n",
      "Model Name:  KNeighborsClassifier()\n",
      "Accuracy Score : 0.7596153846153846\n",
      "F1 score : 0.7058823529411765\n",
      "False Negative : 13\n",
      "**************************************************\n",
      "Model Name:  GradientBoostingClassifier()\n",
      "Accuracy Score : 0.7019230769230769\n",
      "F1 score : 0.6352941176470588\n",
      "False Negative : 16\n"
     ]
    }
   ],
   "source": [
    "a={'Model_Name':[], 'Accuracy_Score':[] ,'F1_score':[] ,'False_Negative':[] }\n",
    "for models in MM:\n",
    "\n",
    "    print(\"*\"*50)\n",
    "    # Fit the model with train data\n",
    "    \n",
    "    models.fit(scaled_xtrain, y_train)\n",
    "    \n",
    "    # Predict the model with test data\n",
    "\n",
    "    y_pred = models.predict(scaled_xtest)\n",
    "    \n",
    "    # Print the model name\n",
    "    \n",
    "    print('Model Name: ', models)\n",
    "\n",
    "    print(\"Accuracy Score :\",accuracy_score(y_test,y_pred))\n",
    "\n",
    "    print(\"F1 score :\", f1_score(y_test,y_pred))\n",
    "\n",
    "    print(\"False Negative :\",confusion_matrix(y_test,y_pred)[1][0])\n",
    "\n",
    "    a['Model_Name'].append(models)\n",
    "    a['Accuracy_Score'].append(accuracy_score(y_test,y_pred))\n",
    "    a['F1_score'].append(f1_score(y_test,y_pred))\n",
    "    a['False_Negative'].append(confusion_matrix(y_test,y_pred)[1][0])"
   ]
  },
  {
   "cell_type": "code",
   "execution_count": 47,
   "id": "992c6e55-c7f1-4a36-84fb-e44a37f1e182",
   "metadata": {},
   "outputs": [
    {
     "data": {
      "text/html": [
       "<div>\n",
       "<style scoped>\n",
       "    .dataframe tbody tr th:only-of-type {\n",
       "        vertical-align: middle;\n",
       "    }\n",
       "\n",
       "    .dataframe tbody tr th {\n",
       "        vertical-align: top;\n",
       "    }\n",
       "\n",
       "    .dataframe thead th {\n",
       "        text-align: right;\n",
       "    }\n",
       "</style>\n",
       "<table border=\"1\" class=\"dataframe\">\n",
       "  <thead>\n",
       "    <tr style=\"text-align: right;\">\n",
       "      <th></th>\n",
       "      <th>Model_Name</th>\n",
       "      <th>Accuracy_Score</th>\n",
       "      <th>F1_score</th>\n",
       "      <th>False_Negative</th>\n",
       "    </tr>\n",
       "  </thead>\n",
       "  <tbody>\n",
       "    <tr>\n",
       "      <th>0</th>\n",
       "      <td>(DecisionTreeClassifier(max_features='sqrt', r...</td>\n",
       "      <td>0.759615</td>\n",
       "      <td>0.705882</td>\n",
       "      <td>13</td>\n",
       "    </tr>\n",
       "    <tr>\n",
       "      <th>1</th>\n",
       "      <td>LogisticRegression()</td>\n",
       "      <td>0.769231</td>\n",
       "      <td>0.700000</td>\n",
       "      <td>15</td>\n",
       "    </tr>\n",
       "    <tr>\n",
       "      <th>2</th>\n",
       "      <td>XGBClassifier(base_score=None, booster=None, c...</td>\n",
       "      <td>0.682692</td>\n",
       "      <td>0.611765</td>\n",
       "      <td>17</td>\n",
       "    </tr>\n",
       "    <tr>\n",
       "      <th>3</th>\n",
       "      <td>GaussianNB()</td>\n",
       "      <td>0.711538</td>\n",
       "      <td>0.705882</td>\n",
       "      <td>7</td>\n",
       "    </tr>\n",
       "    <tr>\n",
       "      <th>4</th>\n",
       "      <td>DecisionTreeClassifier()</td>\n",
       "      <td>0.509615</td>\n",
       "      <td>0.413793</td>\n",
       "      <td>25</td>\n",
       "    </tr>\n",
       "    <tr>\n",
       "      <th>5</th>\n",
       "      <td>SVC()</td>\n",
       "      <td>0.788462</td>\n",
       "      <td>0.738095</td>\n",
       "      <td>12</td>\n",
       "    </tr>\n",
       "    <tr>\n",
       "      <th>6</th>\n",
       "      <td>KNeighborsClassifier()</td>\n",
       "      <td>0.759615</td>\n",
       "      <td>0.705882</td>\n",
       "      <td>13</td>\n",
       "    </tr>\n",
       "    <tr>\n",
       "      <th>7</th>\n",
       "      <td>([DecisionTreeRegressor(criterion='friedman_ms...</td>\n",
       "      <td>0.701923</td>\n",
       "      <td>0.635294</td>\n",
       "      <td>16</td>\n",
       "    </tr>\n",
       "  </tbody>\n",
       "</table>\n",
       "</div>"
      ],
      "text/plain": [
       "                                          Model_Name  Accuracy_Score  \\\n",
       "0  (DecisionTreeClassifier(max_features='sqrt', r...        0.759615   \n",
       "1                               LogisticRegression()        0.769231   \n",
       "2  XGBClassifier(base_score=None, booster=None, c...        0.682692   \n",
       "3                                       GaussianNB()        0.711538   \n",
       "4                           DecisionTreeClassifier()        0.509615   \n",
       "5                                              SVC()        0.788462   \n",
       "6                             KNeighborsClassifier()        0.759615   \n",
       "7  ([DecisionTreeRegressor(criterion='friedman_ms...        0.701923   \n",
       "\n",
       "   F1_score  False_Negative  \n",
       "0  0.705882              13  \n",
       "1  0.700000              15  \n",
       "2  0.611765              17  \n",
       "3  0.705882               7  \n",
       "4  0.413793              25  \n",
       "5  0.738095              12  \n",
       "6  0.705882              13  \n",
       "7  0.635294              16  "
      ]
     },
     "execution_count": 47,
     "metadata": {},
     "output_type": "execute_result"
    }
   ],
   "source": [
    "Results= pd.DataFrame(a)\n",
    "Results"
   ]
  },
  {
   "cell_type": "code",
   "execution_count": null,
   "id": "0dad2754-2001-4d24-b39f-165d84881b27",
   "metadata": {},
   "outputs": [],
   "source": []
  },
  {
   "cell_type": "code",
   "execution_count": null,
   "id": "492bf235-dc06-41dd-8f57-20d99e055e06",
   "metadata": {},
   "outputs": [],
   "source": []
  },
  {
   "cell_type": "code",
   "execution_count": 52,
   "id": "0a4be4f3-b1e5-4bb3-8aea-36b529e65f42",
   "metadata": {},
   "outputs": [],
   "source": [
    "from sklearn.model_selection import GridSearchCV\n",
    "\n",
    "# n_estimators = [int(x) for x in np.linspace(start = 100, stop = 500, num = 10)]\n",
    "\n",
    "# max_features = ['auto', 'sqrt']\n",
    "\n",
    "# max_depth = [int(x) for x in np.linspace(10, 110, num = 11)]\n",
    "# max_depth.append(None)\n",
    "\n",
    "# min_samples_split = [2, 5, 10]\n",
    "\n",
    "# min_samples_leaf = [1, 2, 4]\n",
    "\n",
    "# bootstrap = [True, False]\n",
    "\n",
    "# random_grid = {'n_estimators': n_estimators,\n",
    "#                'max_features': max_features,\n",
    "#                'max_depth': max_depth,\n",
    "#                'min_samples_split': min_samples_split,\n",
    "#                'min_samples_leaf': min_samples_leaf,\n",
    "#                'bootstrap': bootstrap}\n",
    "# print(random_grid)\n",
    "\n",
    "param_grid = {'C': [0.1, 1, 10, 100, 1000], \n",
    "              'gamma': [1, 0.1, 0.01, 0.001, 0.0001],\n",
    "              'kernel': ['rbf','linear','sigmoid']} "
   ]
  },
  {
   "cell_type": "code",
   "execution_count": 53,
   "id": "697a041c-dfce-41cf-9bfa-763e54ac541c",
   "metadata": {},
   "outputs": [
    {
     "name": "stdout",
     "output_type": "stream",
     "text": [
      "Fitting 5 folds for each of 75 candidates, totalling 375 fits\n"
     ]
    },
    {
     "data": {
      "text/html": [
       "<style>#sk-container-id-2 {color: black;}#sk-container-id-2 pre{padding: 0;}#sk-container-id-2 div.sk-toggleable {background-color: white;}#sk-container-id-2 label.sk-toggleable__label {cursor: pointer;display: block;width: 100%;margin-bottom: 0;padding: 0.3em;box-sizing: border-box;text-align: center;}#sk-container-id-2 label.sk-toggleable__label-arrow:before {content: \"▸\";float: left;margin-right: 0.25em;color: #696969;}#sk-container-id-2 label.sk-toggleable__label-arrow:hover:before {color: black;}#sk-container-id-2 div.sk-estimator:hover label.sk-toggleable__label-arrow:before {color: black;}#sk-container-id-2 div.sk-toggleable__content {max-height: 0;max-width: 0;overflow: hidden;text-align: left;background-color: #f0f8ff;}#sk-container-id-2 div.sk-toggleable__content pre {margin: 0.2em;color: black;border-radius: 0.25em;background-color: #f0f8ff;}#sk-container-id-2 input.sk-toggleable__control:checked~div.sk-toggleable__content {max-height: 200px;max-width: 100%;overflow: auto;}#sk-container-id-2 input.sk-toggleable__control:checked~label.sk-toggleable__label-arrow:before {content: \"▾\";}#sk-container-id-2 div.sk-estimator input.sk-toggleable__control:checked~label.sk-toggleable__label {background-color: #d4ebff;}#sk-container-id-2 div.sk-label input.sk-toggleable__control:checked~label.sk-toggleable__label {background-color: #d4ebff;}#sk-container-id-2 input.sk-hidden--visually {border: 0;clip: rect(1px 1px 1px 1px);clip: rect(1px, 1px, 1px, 1px);height: 1px;margin: -1px;overflow: hidden;padding: 0;position: absolute;width: 1px;}#sk-container-id-2 div.sk-estimator {font-family: monospace;background-color: #f0f8ff;border: 1px dotted black;border-radius: 0.25em;box-sizing: border-box;margin-bottom: 0.5em;}#sk-container-id-2 div.sk-estimator:hover {background-color: #d4ebff;}#sk-container-id-2 div.sk-parallel-item::after {content: \"\";width: 100%;border-bottom: 1px solid gray;flex-grow: 1;}#sk-container-id-2 div.sk-label:hover label.sk-toggleable__label {background-color: #d4ebff;}#sk-container-id-2 div.sk-serial::before {content: \"\";position: absolute;border-left: 1px solid gray;box-sizing: border-box;top: 0;bottom: 0;left: 50%;z-index: 0;}#sk-container-id-2 div.sk-serial {display: flex;flex-direction: column;align-items: center;background-color: white;padding-right: 0.2em;padding-left: 0.2em;position: relative;}#sk-container-id-2 div.sk-item {position: relative;z-index: 1;}#sk-container-id-2 div.sk-parallel {display: flex;align-items: stretch;justify-content: center;background-color: white;position: relative;}#sk-container-id-2 div.sk-item::before, #sk-container-id-2 div.sk-parallel-item::before {content: \"\";position: absolute;border-left: 1px solid gray;box-sizing: border-box;top: 0;bottom: 0;left: 50%;z-index: -1;}#sk-container-id-2 div.sk-parallel-item {display: flex;flex-direction: column;z-index: 1;position: relative;background-color: white;}#sk-container-id-2 div.sk-parallel-item:first-child::after {align-self: flex-end;width: 50%;}#sk-container-id-2 div.sk-parallel-item:last-child::after {align-self: flex-start;width: 50%;}#sk-container-id-2 div.sk-parallel-item:only-child::after {width: 0;}#sk-container-id-2 div.sk-dashed-wrapped {border: 1px dashed gray;margin: 0 0.4em 0.5em 0.4em;box-sizing: border-box;padding-bottom: 0.4em;background-color: white;}#sk-container-id-2 div.sk-label label {font-family: monospace;font-weight: bold;display: inline-block;line-height: 1.2em;}#sk-container-id-2 div.sk-label-container {text-align: center;}#sk-container-id-2 div.sk-container {/* jupyter's `normalize.less` sets `[hidden] { display: none; }` but bootstrap.min.css set `[hidden] { display: none !important; }` so we also need the `!important` here to be able to override the default hidden behavior on the sphinx rendered scikit-learn.org. See: https://github.com/scikit-learn/scikit-learn/issues/21755 */display: inline-block !important;position: relative;}#sk-container-id-2 div.sk-text-repr-fallback {display: none;}</style><div id=\"sk-container-id-2\" class=\"sk-top-container\"><div class=\"sk-text-repr-fallback\"><pre>GridSearchCV(estimator=SVC(), n_jobs=-1,\n",
       "             param_grid={&#x27;C&#x27;: [0.1, 1, 10, 100, 1000],\n",
       "                         &#x27;gamma&#x27;: [1, 0.1, 0.01, 0.001, 0.0001],\n",
       "                         &#x27;kernel&#x27;: [&#x27;rbf&#x27;, &#x27;linear&#x27;, &#x27;sigmoid&#x27;]},\n",
       "             verbose=2)</pre><b>In a Jupyter environment, please rerun this cell to show the HTML representation or trust the notebook. <br />On GitHub, the HTML representation is unable to render, please try loading this page with nbviewer.org.</b></div><div class=\"sk-container\" hidden><div class=\"sk-item sk-dashed-wrapped\"><div class=\"sk-label-container\"><div class=\"sk-label sk-toggleable\"><input class=\"sk-toggleable__control sk-hidden--visually\" id=\"sk-estimator-id-2\" type=\"checkbox\" ><label for=\"sk-estimator-id-2\" class=\"sk-toggleable__label sk-toggleable__label-arrow\">GridSearchCV</label><div class=\"sk-toggleable__content\"><pre>GridSearchCV(estimator=SVC(), n_jobs=-1,\n",
       "             param_grid={&#x27;C&#x27;: [0.1, 1, 10, 100, 1000],\n",
       "                         &#x27;gamma&#x27;: [1, 0.1, 0.01, 0.001, 0.0001],\n",
       "                         &#x27;kernel&#x27;: [&#x27;rbf&#x27;, &#x27;linear&#x27;, &#x27;sigmoid&#x27;]},\n",
       "             verbose=2)</pre></div></div></div><div class=\"sk-parallel\"><div class=\"sk-parallel-item\"><div class=\"sk-item\"><div class=\"sk-label-container\"><div class=\"sk-label sk-toggleable\"><input class=\"sk-toggleable__control sk-hidden--visually\" id=\"sk-estimator-id-3\" type=\"checkbox\" ><label for=\"sk-estimator-id-3\" class=\"sk-toggleable__label sk-toggleable__label-arrow\">estimator: SVC</label><div class=\"sk-toggleable__content\"><pre>SVC()</pre></div></div></div><div class=\"sk-serial\"><div class=\"sk-item\"><div class=\"sk-estimator sk-toggleable\"><input class=\"sk-toggleable__control sk-hidden--visually\" id=\"sk-estimator-id-4\" type=\"checkbox\" ><label for=\"sk-estimator-id-4\" class=\"sk-toggleable__label sk-toggleable__label-arrow\">SVC</label><div class=\"sk-toggleable__content\"><pre>SVC()</pre></div></div></div></div></div></div></div></div></div></div>"
      ],
      "text/plain": [
       "GridSearchCV(estimator=SVC(), n_jobs=-1,\n",
       "             param_grid={'C': [0.1, 1, 10, 100, 1000],\n",
       "                         'gamma': [1, 0.1, 0.01, 0.001, 0.0001],\n",
       "                         'kernel': ['rbf', 'linear', 'sigmoid']},\n",
       "             verbose=2)"
      ]
     },
     "execution_count": 53,
     "metadata": {},
     "output_type": "execute_result"
    }
   ],
   "source": [
    "svc = SVC()\n",
    "\n",
    "svc_grid = GridSearchCV(estimator = svc, param_grid  = param_grid,   verbose=2,  n_jobs = -1)\n",
    "\n",
    "svc_grid.fit(scaled_xtrain, y_train)"
   ]
  },
  {
   "cell_type": "code",
   "execution_count": 54,
   "id": "c5432337-b6d0-4efd-893e-00cedb555680",
   "metadata": {},
   "outputs": [
    {
     "data": {
      "text/html": [
       "<style>#sk-container-id-3 {color: black;}#sk-container-id-3 pre{padding: 0;}#sk-container-id-3 div.sk-toggleable {background-color: white;}#sk-container-id-3 label.sk-toggleable__label {cursor: pointer;display: block;width: 100%;margin-bottom: 0;padding: 0.3em;box-sizing: border-box;text-align: center;}#sk-container-id-3 label.sk-toggleable__label-arrow:before {content: \"▸\";float: left;margin-right: 0.25em;color: #696969;}#sk-container-id-3 label.sk-toggleable__label-arrow:hover:before {color: black;}#sk-container-id-3 div.sk-estimator:hover label.sk-toggleable__label-arrow:before {color: black;}#sk-container-id-3 div.sk-toggleable__content {max-height: 0;max-width: 0;overflow: hidden;text-align: left;background-color: #f0f8ff;}#sk-container-id-3 div.sk-toggleable__content pre {margin: 0.2em;color: black;border-radius: 0.25em;background-color: #f0f8ff;}#sk-container-id-3 input.sk-toggleable__control:checked~div.sk-toggleable__content {max-height: 200px;max-width: 100%;overflow: auto;}#sk-container-id-3 input.sk-toggleable__control:checked~label.sk-toggleable__label-arrow:before {content: \"▾\";}#sk-container-id-3 div.sk-estimator input.sk-toggleable__control:checked~label.sk-toggleable__label {background-color: #d4ebff;}#sk-container-id-3 div.sk-label input.sk-toggleable__control:checked~label.sk-toggleable__label {background-color: #d4ebff;}#sk-container-id-3 input.sk-hidden--visually {border: 0;clip: rect(1px 1px 1px 1px);clip: rect(1px, 1px, 1px, 1px);height: 1px;margin: -1px;overflow: hidden;padding: 0;position: absolute;width: 1px;}#sk-container-id-3 div.sk-estimator {font-family: monospace;background-color: #f0f8ff;border: 1px dotted black;border-radius: 0.25em;box-sizing: border-box;margin-bottom: 0.5em;}#sk-container-id-3 div.sk-estimator:hover {background-color: #d4ebff;}#sk-container-id-3 div.sk-parallel-item::after {content: \"\";width: 100%;border-bottom: 1px solid gray;flex-grow: 1;}#sk-container-id-3 div.sk-label:hover label.sk-toggleable__label {background-color: #d4ebff;}#sk-container-id-3 div.sk-serial::before {content: \"\";position: absolute;border-left: 1px solid gray;box-sizing: border-box;top: 0;bottom: 0;left: 50%;z-index: 0;}#sk-container-id-3 div.sk-serial {display: flex;flex-direction: column;align-items: center;background-color: white;padding-right: 0.2em;padding-left: 0.2em;position: relative;}#sk-container-id-3 div.sk-item {position: relative;z-index: 1;}#sk-container-id-3 div.sk-parallel {display: flex;align-items: stretch;justify-content: center;background-color: white;position: relative;}#sk-container-id-3 div.sk-item::before, #sk-container-id-3 div.sk-parallel-item::before {content: \"\";position: absolute;border-left: 1px solid gray;box-sizing: border-box;top: 0;bottom: 0;left: 50%;z-index: -1;}#sk-container-id-3 div.sk-parallel-item {display: flex;flex-direction: column;z-index: 1;position: relative;background-color: white;}#sk-container-id-3 div.sk-parallel-item:first-child::after {align-self: flex-end;width: 50%;}#sk-container-id-3 div.sk-parallel-item:last-child::after {align-self: flex-start;width: 50%;}#sk-container-id-3 div.sk-parallel-item:only-child::after {width: 0;}#sk-container-id-3 div.sk-dashed-wrapped {border: 1px dashed gray;margin: 0 0.4em 0.5em 0.4em;box-sizing: border-box;padding-bottom: 0.4em;background-color: white;}#sk-container-id-3 div.sk-label label {font-family: monospace;font-weight: bold;display: inline-block;line-height: 1.2em;}#sk-container-id-3 div.sk-label-container {text-align: center;}#sk-container-id-3 div.sk-container {/* jupyter's `normalize.less` sets `[hidden] { display: none; }` but bootstrap.min.css set `[hidden] { display: none !important; }` so we also need the `!important` here to be able to override the default hidden behavior on the sphinx rendered scikit-learn.org. See: https://github.com/scikit-learn/scikit-learn/issues/21755 */display: inline-block !important;position: relative;}#sk-container-id-3 div.sk-text-repr-fallback {display: none;}</style><div id=\"sk-container-id-3\" class=\"sk-top-container\"><div class=\"sk-text-repr-fallback\"><pre>SVC()</pre><b>In a Jupyter environment, please rerun this cell to show the HTML representation or trust the notebook. <br />On GitHub, the HTML representation is unable to render, please try loading this page with nbviewer.org.</b></div><div class=\"sk-container\" hidden><div class=\"sk-item\"><div class=\"sk-estimator sk-toggleable\"><input class=\"sk-toggleable__control sk-hidden--visually\" id=\"sk-estimator-id-5\" type=\"checkbox\" checked><label for=\"sk-estimator-id-5\" class=\"sk-toggleable__label sk-toggleable__label-arrow\">SVC</label><div class=\"sk-toggleable__content\"><pre>SVC()</pre></div></div></div></div></div>"
      ],
      "text/plain": [
       "SVC()"
      ]
     },
     "execution_count": 54,
     "metadata": {},
     "output_type": "execute_result"
    }
   ],
   "source": [
    "svc.fit(scaled_xtrain,y_train)"
   ]
  },
  {
   "cell_type": "code",
   "execution_count": 55,
   "id": "14ee3bec-8b41-4ddf-a503-f3638170d4fb",
   "metadata": {},
   "outputs": [
    {
     "data": {
      "text/plain": [
       "{'C': 0.1, 'gamma': 0.1, 'kernel': 'rbf'}"
      ]
     },
     "execution_count": 55,
     "metadata": {},
     "output_type": "execute_result"
    }
   ],
   "source": [
    "svc_grid.best_params_"
   ]
  },
  {
   "cell_type": "code",
   "execution_count": 56,
   "id": "7d179f5e-2021-4cd1-bdb5-179ab45854c4",
   "metadata": {},
   "outputs": [
    {
     "name": "stderr",
     "output_type": "stream",
     "text": [
      "C:\\Python311\\Lib\\site-packages\\sklearn\\base.py:464: UserWarning: X does not have valid feature names, but SVC was fitted with feature names\n",
      "  warnings.warn(\n"
     ]
    }
   ],
   "source": [
    "y_pred = svc.predict(x_test)"
   ]
  },
  {
   "cell_type": "code",
   "execution_count": 57,
   "id": "bf0d1bb7-2896-4d56-8c39-953463b6cb0b",
   "metadata": {},
   "outputs": [
    {
     "data": {
      "text/plain": [
       "array([[51, 10],\n",
       "       [12, 31]], dtype=int64)"
      ]
     },
     "execution_count": 57,
     "metadata": {},
     "output_type": "execute_result"
    }
   ],
   "source": [
    "confusion_matrix(y_test,y_pred)"
   ]
  },
  {
   "cell_type": "code",
   "execution_count": 58,
   "id": "7ad07c7c-4c1e-4d1e-90ff-607c8db150fc",
   "metadata": {},
   "outputs": [
    {
     "data": {
      "text/plain": [
       "0.7884615384615384"
      ]
     },
     "execution_count": 58,
     "metadata": {},
     "output_type": "execute_result"
    }
   ],
   "source": [
    "accuracy_score(y_pred,y_test)"
   ]
  },
  {
   "cell_type": "code",
   "execution_count": 59,
   "id": "b9722ea5-3899-45da-98dd-34753f661a57",
   "metadata": {},
   "outputs": [
    {
     "data": {
      "text/plain": [
       "0.7380952380952381"
      ]
     },
     "execution_count": 59,
     "metadata": {},
     "output_type": "execute_result"
    }
   ],
   "source": [
    "f1_score(y_test,y_pred)"
   ]
  },
  {
   "cell_type": "code",
   "execution_count": null,
   "id": "eb490147-7b80-4bf0-ac93-f47924ae8801",
   "metadata": {},
   "outputs": [],
   "source": []
  },
  {
   "cell_type": "code",
   "execution_count": null,
   "id": "6eb46284-fa58-473f-87e7-725b5a6fe9fb",
   "metadata": {},
   "outputs": [],
   "source": []
  },
  {
   "cell_type": "code",
   "execution_count": null,
   "id": "578af335-f694-4633-ad84-27bf5112d266",
   "metadata": {},
   "outputs": [],
   "source": []
  }
 ],
 "metadata": {
  "kernelspec": {
   "display_name": "Python 3 (ipykernel)",
   "language": "python",
   "name": "python3"
  },
  "language_info": {
   "codemirror_mode": {
    "name": "ipython",
    "version": 3
   },
   "file_extension": ".py",
   "mimetype": "text/x-python",
   "name": "python",
   "nbconvert_exporter": "python",
   "pygments_lexer": "ipython3",
   "version": "3.11.4"
  }
 },
 "nbformat": 4,
 "nbformat_minor": 5
}
